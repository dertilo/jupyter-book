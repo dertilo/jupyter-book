{
 "cells": [
  {
   "cell_type": "markdown",
   "metadata": {},
   "source": [
    "# Dialogue Manager in Plato trained with REINFORCE\n",
    "\n",
    "✨**experimental**✨\n",
    "\n",
    "* convolutional neural network used for encoding of dialogue-states, network architecture is displayed in output \n",
    "* reaches ~95% success-rate after 200 dialogues (in ~40 seconds)"
   ]
  },
  {
   "cell_type": "code",
   "execution_count": 2,
   "metadata": {
    "scrolled": true,
    "tags": [
     "remove_cell"
    ]
   },
   "outputs": [
    {
     "name": "stdout",
     "output_type": "stream",
     "text": [
      "Fetching origin\n",
      "Your branch is behind 'origin/actorcritic' by 13 commits, and can be fast-forwarded.\n",
      "  (use \"git pull\" to update your local branch)\n",
      "Updating 409a14f..ded2412\n",
      "Fast-forward\n",
      " .gitignore                                         |  2 +-\n",
      " ConversationalAgent/ConversationalSingleAgent.py   | 15 ++++\n",
      " Dialogue/Action.py                                 |  9 +++\n",
      " DialogueManagement/DialogueManager.py              | 81 ++++++++++++----------\n",
      " .../ReinforcementLearning/QPolicy.py               | 13 +++-\n",
      " .../ReinforcementLearning/pytorch_a2c_policy.py    | 41 +++++------\n",
      " .../AgendaBasedUserSimulator/AgendaBasedUS.py      | 76 +++++++++++---------\n",
      " log_to_csv.py                                      | 36 +++++-----\n",
      " 8 files changed, 156 insertions(+), 117 deletions(-)\n"
     ]
    },
    {
     "name": "stderr",
     "output_type": "stream",
     "text": [
      "From https://gitlab.tubit.tu-berlin.de/OKS/plato\n",
      "   409a14f..ded2412  actorcritic -> origin/actorcritic\n",
      "   1e45c55..af3c9ac  multi_intent_user_simulation -> origin/multi_intent_user_simulation\n",
      " * [new branch]      test_influence_handcrafted -> origin/test_influence_handcrafted\n",
      "Already on 'actorcritic'\n"
     ]
    }
   ],
   "source": [
    "%%bash\n",
    "REPOSRC=https://gitlab.tubit.tu-berlin.de/OKS/plato.git\n",
    "REPODIR=plato\n",
    "REROGIT=$REPODIR/.git\n",
    "\n",
    "[ -d $REROGIT ] || git clone $REPOSRC $REPODIR\n",
    "(cd $REPODIR; git remote update && git checkout actorcritic && git merge origin/actorcritic)"
   ]
  },
  {
   "cell_type": "code",
   "execution_count": 3,
   "metadata": {
    "tags": [
     "remove_cell"
    ]
   },
   "outputs": [
    {
     "name": "stdout",
     "output_type": "stream",
     "text": [
      "Requirement already satisfied: tqdm in /home/jupyter-tilo/.conda/envs/plato/lib/python3.7/site-packages (from -r requirements.txt (line 1)) (4.45.0)\n",
      "Requirement already satisfied: pandas>=0.23.4 in /home/jupyter-tilo/.conda/envs/plato/lib/python3.7/site-packages (from -r requirements.txt (line 2)) (1.0.3)\n",
      "Requirement already satisfied: pyyaml>=3.13 in /home/jupyter-tilo/.conda/envs/plato/lib/python3.7/site-packages (from -r requirements.txt (line 3)) (5.3.1)\n",
      "Requirement already satisfied: torch==1.2.0 in /home/jupyter-tilo/.conda/envs/plato/lib/python3.7/site-packages (from -r requirements.txt (line 4)) (1.2.0)\n",
      "Requirement already satisfied: torchtext in /home/jupyter-tilo/.conda/envs/plato/lib/python3.7/site-packages (from -r requirements.txt (line 5)) (0.5.0)\n",
      "Requirement already satisfied: sklearn in /home/jupyter-tilo/.conda/envs/plato/lib/python3.7/site-packages (from -r requirements.txt (line 6)) (0.0)\n",
      "Requirement already satisfied: pytz>=2017.2 in /home/jupyter-tilo/.conda/envs/plato/lib/python3.7/site-packages (from pandas>=0.23.4->-r requirements.txt (line 2)) (2019.3)\n",
      "Requirement already satisfied: numpy>=1.13.3 in /home/jupyter-tilo/.conda/envs/plato/lib/python3.7/site-packages (from pandas>=0.23.4->-r requirements.txt (line 2)) (1.18.2)\n",
      "Requirement already satisfied: python-dateutil>=2.6.1 in /home/jupyter-tilo/.conda/envs/plato/lib/python3.7/site-packages (from pandas>=0.23.4->-r requirements.txt (line 2)) (2.8.1)\n",
      "Requirement already satisfied: sentencepiece in /home/jupyter-tilo/.conda/envs/plato/lib/python3.7/site-packages (from torchtext->-r requirements.txt (line 5)) (0.1.85)\n",
      "Requirement already satisfied: requests in /home/jupyter-tilo/.conda/envs/plato/lib/python3.7/site-packages (from torchtext->-r requirements.txt (line 5)) (2.23.0)\n",
      "Requirement already satisfied: six in /home/jupyter-tilo/.conda/envs/plato/lib/python3.7/site-packages (from torchtext->-r requirements.txt (line 5)) (1.14.0)\n",
      "Requirement already satisfied: scikit-learn in /home/jupyter-tilo/.conda/envs/plato/lib/python3.7/site-packages (from sklearn->-r requirements.txt (line 6)) (0.22.2.post1)\n",
      "Requirement already satisfied: chardet<4,>=3.0.2 in /home/jupyter-tilo/.conda/envs/plato/lib/python3.7/site-packages (from requests->torchtext->-r requirements.txt (line 5)) (3.0.4)\n",
      "Requirement already satisfied: certifi>=2017.4.17 in /home/jupyter-tilo/.conda/envs/plato/lib/python3.7/site-packages (from requests->torchtext->-r requirements.txt (line 5)) (2020.4.5.1)\n",
      "Requirement already satisfied: idna<3,>=2.5 in /home/jupyter-tilo/.conda/envs/plato/lib/python3.7/site-packages (from requests->torchtext->-r requirements.txt (line 5)) (2.9)\n",
      "Requirement already satisfied: urllib3!=1.25.0,!=1.25.1,<1.26,>=1.21.1 in /home/jupyter-tilo/.conda/envs/plato/lib/python3.7/site-packages (from requests->torchtext->-r requirements.txt (line 5)) (1.25.9)\n",
      "Requirement already satisfied: scipy>=0.17.0 in /home/jupyter-tilo/.conda/envs/plato/lib/python3.7/site-packages (from scikit-learn->sklearn->-r requirements.txt (line 6)) (1.4.1)\n",
      "Requirement already satisfied: joblib>=0.11 in /home/jupyter-tilo/.conda/envs/plato/lib/python3.7/site-packages (from scikit-learn->sklearn->-r requirements.txt (line 6)) (0.14.1)\n"
     ]
    }
   ],
   "source": [
    "%%bash\n",
    "source activate plato\n",
    "cd plato\n",
    "pip install -r requirements.txt"
   ]
  },
  {
   "cell_type": "code",
   "execution_count": 4,
   "metadata": {
    "tags": [
     "hide_input"
    ]
   },
   "outputs": [],
   "source": [
    "#%load_ext autoreload\n",
    "#%autoreload 2\n",
    "import os\n",
    "import sys\n",
    "sys.path.append('plato')\n",
    "\n",
    "import shutil\n",
    "from os import chdir\n",
    "import torch\n",
    "import torch.nn as nn\n",
    "import torch.nn.functional as F\n",
    "\n",
    "import DialogueManagement.DialoguePolicy.ReinforcementLearning.run_rl_training\n",
    "from DialogueManagement.DialoguePolicy.ReinforcementLearning.pytorch_reinforce_policy import PyTorchReinforcePolicy\n",
    "from ConversationalAgent.ConversationalSingleAgent import ConversationalSingleAgent\n",
    "from DialogueManagement.DialoguePolicy.ReinforcementLearning.run_rl_training import \\\n",
    "    build_config, run_it\n",
    "from torch.distributions import Categorical\n",
    "\n",
    "#import importlib\n",
    "#importlib.reload(x)\n",
    "\n",
    "def clean_dir(dir):\n",
    "    if os.path.isdir(dir):\n",
    "        shutil.rmtree(dir)\n",
    "    os.mkdir(dir)"
   ]
  },
  {
   "cell_type": "code",
   "execution_count": null,
   "metadata": {
    "tags": [
     "remove_cell"
    ]
   },
   "outputs": [],
   "source": [
    "\n",
    "\n",
    "class PolicyAgentModified(nn.Module):\n",
    "    def __init__(self, vocab_size, num_actions, hidden_dim=64, embed_dim=32,**kwargs) -> None:\n",
    "        super().__init__()\n",
    "\n",
    "        self.embedding = nn.Embedding(vocab_size, embed_dim)\n",
    "        self.convnet = nn.Sequential(\n",
    "            nn.Conv1d(in_channels=embed_dim, out_channels=hidden_dim, kernel_size=3),\n",
    "            nn.ELU(),\n",
    "            nn.Conv1d(\n",
    "                in_channels=hidden_dim,\n",
    "                out_channels=hidden_dim,\n",
    "                kernel_size=3,\n",
    "                stride=2,\n",
    "            ),\n",
    "            nn.ELU(),\n",
    "            nn.Conv1d(in_channels=hidden_dim, out_channels=hidden_dim, kernel_size=3),\n",
    "            nn.ELU(),\n",
    "        )\n",
    "        self.pooling = nn.AdaptiveMaxPool1d(1)\n",
    "\n",
    "        self.affine2 = nn.Linear(hidden_dim, num_actions)\n",
    "\n",
    "    def forward(self, x):\n",
    "        x = self.embedding(x)\n",
    "        x = x.transpose(2, 1)\n",
    "        features = self.convnet(x)\n",
    "        features_pooled = self.pooling(features).squeeze(2)\n",
    "        return F.softmax(self.affine2(features_pooled), dim=1)\n",
    "\n",
    "    def step(self, state):\n",
    "        probs = self.calc_probs(state)\n",
    "        m = Categorical(probs)\n",
    "        action = m.sample()\n",
    "        return action.item(), m.log_prob(action)\n",
    "\n",
    "    def calc_probs(self, state):\n",
    "        return self.forward(state)\n",
    "\n",
    "    def log_probs(self, state: torch.Tensor, action: torch.Tensor):\n",
    "        probs = self.calc_probs(state)\n",
    "        m = Categorical(probs)\n",
    "        return m.log_prob(action)\n"
   ]
  },
  {
   "cell_type": "code",
   "execution_count": 7,
   "metadata": {},
   "outputs": [
    {
     "name": "stderr",
     "output_type": "stream",
     "text": [
      "\r",
      "0it [00:00, ?it/s[{'dialogue': 0, 'success-rate': 0.0, 'loss': 0.0}]]"
     ]
    },
    {
     "name": "stdout",
     "output_type": "stream",
     "text": [
      "WARNING! SlotFillingDialogueState not provided with slots, using default CamRest slots.\n",
      "PolicyAgent(\n",
      "  (encoder): StateEncoder(\n",
      "    (embedding): Embedding(62, 32, padding_idx=1)\n",
      "    (convnet): Sequential(\n",
      "      (0): Conv1d(32, 64, kernel_size=(3,), stride=(1,))\n",
      "      (1): ELU(alpha=1.0)\n",
      "      (2): Conv1d(64, 64, kernel_size=(3,), stride=(2,))\n",
      "      (3): ELU(alpha=1.0)\n",
      "      (4): Conv1d(64, 64, kernel_size=(3,), stride=(2,))\n",
      "      (5): ELU(alpha=1.0)\n",
      "      (6): Conv1d(64, 64, kernel_size=(3,), stride=(1,))\n",
      "      (7): ELU(alpha=1.0)\n",
      "    )\n",
      "    (pooling): AdaptiveMaxPool1d(output_size=1)\n",
      "  )\n",
      "  (actor): Actor(\n",
      "    (intent_head): Linear(in_features=64, out_features=15, bias=True)\n",
      "    (slots_head): Linear(in_features=64, out_features=10, bias=True)\n",
      "  )\n",
      ")\n"
     ]
    },
    {
     "name": "stderr",
     "output_type": "stream",
     "text": [
      "200it [00:37,  5.34it/s[{'dialogue': 199, 'success-rate': 0.84, 'loss': 17.335, 'eps': 0.08962861870232469}]]\n"
     ]
    },
    {
     "name": "stdout",
     "output_type": "stream",
     "text": [
      "\n",
      "\n",
      "Dialogue Success Rate: 94.0\n",
      "Average Cumulative Reward: 18.205749999999995\n",
      "Average Turns: 11.625\n",
      "WARNING! SlotFillingDialogueState not provided with slots, using default CamRest slots.\n"
     ]
    },
    {
     "name": "stderr",
     "output_type": "stream",
     "text": [
      "100it [00:14,  7.00it/s[{'dialogue': 99, 'success-rate': 0.84, 'loss': 0.0, 'eps': 1.0}]]\n"
     ]
    },
    {
     "name": "stdout",
     "output_type": "stream",
     "text": [
      "\n",
      "\n",
      "Dialogue Success Rate: 95.0\n",
      "Average Cumulative Reward: 18.4225\n",
      "Average Turns: 11.5\n"
     ]
    }
   ],
   "source": [
    "\n",
    "base_path = \".\"\n",
    "policy_path = base_path+\"/policies/agent\"\n",
    "domain_path = \"shared_data/domain\"\n",
    "\n",
    "chdir(\"%s\" % base_path)\n",
    "clean_dir(\"logs\")\n",
    "clean_dir(\"policies\")\n",
    "\n",
    "\n",
    "config = {\n",
    "        \"GENERAL\": {\n",
    "            \"print_level\": \"info\",\n",
    "            \"interaction_mode\": \"simulation\",\n",
    "            \"agents\": 1,\n",
    "            \"runs\": 5,\n",
    "            \"experience_logs\": {\n",
    "                \"save\": False,\n",
    "                \"load\": False,\n",
    "                \"path\": \"logs/train_reinforce_logs.pkl\",\n",
    "            },\n",
    "        },\n",
    "        \"DIALOGUE\": {\n",
    "            \"num_dialogues\": 1000,\n",
    "            \"initiative\": \"system\",\n",
    "            \"domain\": \"CamRest\",\n",
    "            \"ontology_path\": domain_path+\"/alex-rules.json\",\n",
    "            \"db_path\": domain_path+\"/alex-dbase.db\",\n",
    "            \"db_type\": \"sql\",\n",
    "            \"cache_sql_results\": True,\n",
    "        },\n",
    "        \"AGENT_0\": {\n",
    "            \"role\": \"system\",\n",
    "            \"USER_SIMULATOR\": {\n",
    "                \"simulator\": \"agenda\",\n",
    "                \"patience\": 5,\n",
    "                \"pop_distribution\": [1.0],\n",
    "                \"slot_confuse_prob\": 0.0,\n",
    "                \"op_confuse_prob\": 0.0,\n",
    "                \"value_confuse_prob\": 0.0,\n",
    "            },\n",
    "            \"DM\": {\n",
    "                \"policy\": {\n",
    "                    \"type\": \"pytorch_reinforce\",\n",
    "                    \"train\": True,\n",
    "                    \"learning_rate\": 0.01,\n",
    "                    \"learning_decay_rate\": 0.995,\n",
    "                    \"discount_factor\": 0.99,\n",
    "                    \"exploration_rate\": 1.0,\n",
    "                    \"exploration_decay_rate\": 0.99,\n",
    "                    \"min_exploration_rate\": 0.01,\n",
    "                    \"policy_path\": policy_path,\n",
    "                    #\"PolicyAgentModelClass\":PolicyAgentModified\n",
    "                }\n",
    "            },\n",
    "\n",
    "        },\n",
    "    }\n",
    "\n",
    "run_it(config, 200)\n",
    "config['AGENT_0']['DM']['policy']['train']=False\n",
    "run_it(config)"
   ]
  }
 ],
 "metadata": {
  "celltoolbar": "Tags",
  "kernelspec": {
   "display_name": "Python (plato)",
   "language": "python",
   "name": "plato"
  },
  "language_info": {
   "codemirror_mode": {
    "name": "ipython",
    "version": 3
   },
   "file_extension": ".py",
   "mimetype": "text/x-python",
   "name": "python",
   "nbconvert_exporter": "python",
   "pygments_lexer": "ipython3",
   "version": "3.7.7"
  },
  "widgets": {
   "application/vnd.jupyter.widget-state+json": {
    "state": {},
    "version_major": 2,
    "version_minor": 0
   }
  }
 },
 "nbformat": 4,
 "nbformat_minor": 4
}
